{
 "cells": [
  {
   "cell_type": "markdown",
   "id": "0f4c5f31",
   "metadata": {},
   "source": [
    "# Today's topic:\n",
    "1. Operators\n",
    "2. Branching(if-else)\n",
    "3. while loop with else\n",
    "4. for loop with else\n",
    "5. iterating by index\n",
    "6. Nested loops\n",
    "7. Loop control statements --> Break & Continue"
   ]
  },
  {
   "cell_type": "markdown",
   "id": "a6090de4",
   "metadata": {},
   "source": [
    "# Operators in Python\n",
    "1. Arithmetic Operators\n",
    "2. Relational Operators\n",
    "3. Logical Operators\n",
    "4. Bitwise Operators\n",
    "5. Assignment Operators\n",
    "6. Membership Operators"
   ]
  },
  {
   "cell_type": "code",
   "execution_count": 3,
   "id": "f9644fa8",
   "metadata": {},
   "outputs": [
    {
     "name": "stdout",
     "output_type": "stream",
     "text": [
      "7\n",
      "3\n",
      "10\n",
      "2.5\n",
      "2\n",
      "1\n",
      "25\n"
     ]
    }
   ],
   "source": [
    "# Arithmetic Operators\n",
    "print(5+2)  #Addition\n",
    "print(5-2)  #Subtraction\n",
    "print(5*2)  #Multiplication\n",
    "print(5/2)  #Division\n",
    "print(5//2) #Interger division\n",
    "\n",
    "# Note - Interger division converts the result of normal division into integer.\n",
    "\n",
    "print(5%2) #Modulus\n",
    "print(5**2) #powerof"
   ]
  },
  {
   "cell_type": "code",
   "execution_count": 1,
   "id": "f0948203",
   "metadata": {},
   "outputs": [
    {
     "name": "stdout",
     "output_type": "stream",
     "text": [
      "False\n",
      "True\n",
      "False\n",
      "True\n",
      "False\n",
      "True\n"
     ]
    }
   ],
   "source": [
    "# Relational Operators\n",
    "print(4>5) # greater than\n",
    "print(4<5) # less than\n",
    "print(4>=5) # greater than equal to\n",
    "print(4<=5) # less than equal to \n",
    "print(4==5) # double equal to\n",
    "print(4!=5) # not equal to"
   ]
  },
  {
   "cell_type": "code",
   "execution_count": 6,
   "id": "7ce20885",
   "metadata": {
    "scrolled": true
   },
   "outputs": [
    {
     "name": "stdout",
     "output_type": "stream",
     "text": [
      "0\n",
      "1\n",
      "True\n"
     ]
    }
   ],
   "source": [
    "# Logical Operators\n",
    "print(1 and 0) #and\n",
    "print(1 or 0) #or\n",
    "print(not 0) #not"
   ]
  },
  {
   "cell_type": "code",
   "execution_count": 12,
   "id": "22c60449",
   "metadata": {},
   "outputs": [
    {
     "name": "stdout",
     "output_type": "stream",
     "text": [
      "2\n",
      "3\n",
      "1\n",
      "-4\n",
      "1\n",
      "20\n"
     ]
    }
   ],
   "source": [
    "#  Bitwise Operators --> special operators that only operates on binary values.\n",
    "\n",
    "print(2 & 3)   # Bitwise and\n",
    "# 2 --> 010\n",
    "# 3 --> 011\n",
    "#    & .....\n",
    "#       010 ---> 2 \n",
    "\n",
    "print(2 | 3)   # Bitwise or\n",
    "# 2 --> 010\n",
    "# 3 --> 011\n",
    "#    | .....\n",
    "#       011 ---> 3 \n",
    "\n",
    "print(2 ^ 3)   # Bitwise xor\n",
    "# 2 --> 010\n",
    "# 3 --> 011\n",
    "#    ^ .....\n",
    "#       001 ---> 1 \n",
    "\n",
    "\n",
    "print(~3)      # Bitwise not\n",
    "print(4 >> 2)  # Bitwise left shift\n",
    "print(5 << 2)  # Bitwise right shift"
   ]
  },
  {
   "cell_type": "code",
   "execution_count": 15,
   "id": "12ed30c1",
   "metadata": {},
   "outputs": [
    {
     "name": "stdout",
     "output_type": "stream",
     "text": [
      "2\n",
      "6\n",
      "4\n",
      "8\n",
      "4.0\n",
      "0.0\n"
     ]
    }
   ],
   "source": [
    "# Assignment Operators (=)\n",
    "a = 2\n",
    "print(a)\n",
    "\n",
    "#Note - you can use Assignment Operators with other operators.\n",
    "a  = 4\n",
    "a += 2\n",
    "print(a)\n",
    "\n",
    "a -= 2\n",
    "print(a)\n",
    "\n",
    "a *= 2\n",
    "print(a)\n",
    "\n",
    "a /= 2\n",
    "print(a)\n",
    "\n",
    "a %= 2\n",
    "print(a)"
   ]
  },
  {
   "cell_type": "code",
   "execution_count": 18,
   "id": "e8dff02d",
   "metadata": {},
   "outputs": [
    {
     "name": "stdout",
     "output_type": "stream",
     "text": [
      "True\n",
      "False\n",
      "True\n"
     ]
    }
   ],
   "source": [
    "# Membership Operators --> almost work on every possible thing such as list,strings,int,tuples etc.\n",
    "# in /not in\n",
    "\n",
    "print('d' in 'delhi')\n",
    "print('d' not in 'delhi')\n",
    "\n",
    "print(1 in [1,2,3,4,5])"
   ]
  },
  {
   "cell_type": "code",
   "execution_count": 20,
   "id": "012c70ea",
   "metadata": {},
   "outputs": [
    {
     "name": "stdout",
     "output_type": "stream",
     "text": [
      "Enter a 3-digit number:555\n",
      "15\n"
     ]
    }
   ],
   "source": [
    "# Find the sum of 3 digit number\n",
    "number = int(input('Enter a 3-digit number:'))\n",
    "\n",
    "# 345%10 --> 5\n",
    "onesPlaceDigit = number%10\n",
    "number = number//10\n",
    "\n",
    "#34%10 --> 4\n",
    "tenthPlaceDigit = number%10 \n",
    "number = number // 10\n",
    "\n",
    "#3%10 --> 3\n",
    "hundredPlaceDigit = number%10\n",
    "number = number // 10\n",
    "\n",
    "print(onesPlaceDigit + tenthPlaceDigit + hundredPlaceDigit)"
   ]
  },
  {
   "cell_type": "markdown",
   "id": "dbe700fa",
   "metadata": {},
   "source": [
    "# If-else in python"
   ]
  },
  {
   "cell_type": "code",
   "execution_count": 25,
   "id": "b68d012e",
   "metadata": {},
   "outputs": [
    {
     "name": "stdout",
     "output_type": "stream",
     "text": [
      "Enter email:abc@gmail.com\n",
      "Enter password:1345\n",
      "Incorrect Password\n",
      "Enter password again:1456\n",
      "Aae Vediya ye bat ka grip na ...\n"
     ]
    }
   ],
   "source": [
    "# Login program and identation\n",
    "# CorrectE-mail   -> abc@gmail.com\n",
    "# CorrectPassword -> 1234\n",
    "\n",
    "Email = input('Enter email:')\n",
    "Password = input('Enter password:')\n",
    "\n",
    "if Email == 'abc@gmail.com' and Password == '1234':\n",
    "    print('wlecome')\n",
    "elif Email == 'abc@gmail.com' and Password != '1234':\n",
    "    #tell the user to change its password\n",
    "    print('Incorrect Password')\n",
    "    Password = input('Enter password again:')\n",
    "    #Again checking the password that user has entered\n",
    "    if Password == '1234':\n",
    "        print('Welcome,Finally!')\n",
    "    else:\n",
    "        print('Aae Vediya ye bat ka grip na ...')\n",
    "else:\n",
    "    print('NotCorrect')"
   ]
  },
  {
   "cell_type": "code",
   "execution_count": 13,
   "id": "f7645a37",
   "metadata": {},
   "outputs": [
    {
     "name": "stdout",
     "output_type": "stream",
     "text": [
      "first num: 15\n",
      "second num: 15\n",
      "Third num: 15\n",
      "all three are equal: \n"
     ]
    }
   ],
   "source": [
    "# if-else examples.\n",
    "# Find the minimum of three numbers.\n",
    "num1 = int(input('first num: '))\n",
    "num2 = int(input('second num: '))\n",
    "num3 = int(input('Third num: '))\n",
    "\n",
    "if num1 == num2 == num3:\n",
    "    print('all three are equal')\n",
    "elif num1<num2 and num1<num3:\n",
    "    print('samllest is', num1)\n",
    "elif num2 < num3:\n",
    "    print('samllest is ', num2)\n",
    "else:\n",
    "    print('samllest is ', num3)"
   ]
  },
  {
   "cell_type": "code",
   "execution_count": 14,
   "id": "c1ba313c",
   "metadata": {},
   "outputs": [
    {
     "name": "stdout",
     "output_type": "stream",
     "text": [
      "enter the 1st number: 15\n",
      "enter the 2nd number: 5\n",
      "enter the operation/\n",
      "3.0\n"
     ]
    }
   ],
   "source": [
    "# Menu-driven calculator\n",
    "num1 = int(input('enter the 1st number: '))\n",
    "num2 = int(input('enter the 2nd number: '))\n",
    "\n",
    "op = input('enter the operation')\n",
    "\n",
    "if op == '+':\n",
    "    print(num1 + num2)\n",
    "elif op == '-':\n",
    "    print(num1 - num2)\n",
    "elif op == '*':\n",
    "    print(num1 * num2)\n",
    "else:\n",
    "    print(num1 / num2)"
   ]
  },
  {
   "cell_type": "code",
   "execution_count": 16,
   "id": "c85b7826",
   "metadata": {},
   "outputs": [
    {
     "name": "stdout",
     "output_type": "stream",
     "text": [
      "\n",
      "Hi! how can i help you.\n",
      "1. Enter 1 for pin change.\n",
      "2. Enter 2 for balance check.\n",
      "3. Enter 3 for exit.\n",
      "2\n",
      "Your blalnce is $1000\n"
     ]
    }
   ],
   "source": [
    "# menu-driven program\n",
    "menu = input(\"\"\"\n",
    "Hi! how can i help you.\n",
    "1. Enter 1 for pin change.\n",
    "2. Enter 2 for balance check.\n",
    "3. Enter 3 for exit.\n",
    "\"\"\")\n",
    "\n",
    "if menu == '1':\n",
    "    print('Your pin has been changed')\n",
    "elif menu == '2':\n",
    "    print('Your blalnce is $1000')\n",
    "else:\n",
    "    print('exit')"
   ]
  },
  {
   "cell_type": "markdown",
   "id": "60a22385",
   "metadata": {},
   "source": [
    "# Modules in Python\n",
    "# 1. math\n",
    "# 2. keyword\n",
    "# 3. dataTime\n",
    "# 4. random"
   ]
  },
  {
   "cell_type": "code",
   "execution_count": 20,
   "id": "82facbf9",
   "metadata": {},
   "outputs": [
    {
     "name": "stdout",
     "output_type": "stream",
     "text": [
      "120\n",
      "6\n",
      "14.0\n"
     ]
    }
   ],
   "source": [
    "# math \n",
    "import math\n",
    "print(math.factorial(5))\n",
    "print(math.floor(6.24))\n",
    "print(math.sqrt(196))"
   ]
  },
  {
   "cell_type": "code",
   "execution_count": 21,
   "id": "e221d3c7",
   "metadata": {},
   "outputs": [
    {
     "name": "stdout",
     "output_type": "stream",
     "text": [
      "['False', 'None', 'True', '__peg_parser__', 'and', 'as', 'assert', 'async', 'await', 'break', 'class', 'continue', 'def', 'del', 'elif', 'else', 'except', 'finally', 'for', 'from', 'global', 'if', 'import', 'in', 'is', 'lambda', 'nonlocal', 'not', 'or', 'pass', 'raise', 'return', 'try', 'while', 'with', 'yield']\n"
     ]
    }
   ],
   "source": [
    "# keyword module\n",
    "import keyword\n",
    "print(keyword.kwlist)"
   ]
  },
  {
   "cell_type": "code",
   "execution_count": 29,
   "id": "e2a4ac97",
   "metadata": {},
   "outputs": [
    {
     "name": "stdout",
     "output_type": "stream",
     "text": [
      "54\n"
     ]
    }
   ],
   "source": [
    "# radnom\n",
    "import random\n",
    "print(random.randint(1,100))"
   ]
  },
  {
   "cell_type": "code",
   "execution_count": 30,
   "id": "e4a40736",
   "metadata": {},
   "outputs": [
    {
     "name": "stdout",
     "output_type": "stream",
     "text": [
      "2023-06-21 11:31:32.223847\n"
     ]
    }
   ],
   "source": [
    "# datetime\n",
    "import datetime\n",
    "print(datetime.datetime.now())"
   ]
  },
  {
   "cell_type": "code",
   "execution_count": 32,
   "id": "a1d05936",
   "metadata": {
    "scrolled": false
   },
   "outputs": [
    {
     "name": "stdout",
     "output_type": "stream",
     "text": [
      "\n",
      "Please wait a moment while I gather a list of all available modules...\n",
      "\n"
     ]
    },
    {
     "name": "stderr",
     "output_type": "stream",
     "text": [
      "No QCoreApplication instance found. Application patches not applied. You have to call load_stylesheet function after instantiation of QApplication to take effect. \n",
      "C:\\Users\\DELL\\anaconda3\\lib\\pkgutil.py:108: VisibleDeprecationWarning:\n",
      "\n",
      "zmq.eventloop.minitornado is deprecated in pyzmq 14.0 and will be removed.\n",
      "    Install tornado itself to use zmq with the tornado IOLoop.\n",
      "    \n",
      "\n"
     ]
    },
    {
     "name": "stdout",
     "output_type": "stream",
     "text": [
      "Cython              comtypes            mmapfile            snowballstemmer\n",
      "IPython             concurrent          mmsystem            socket\n",
      "OpenSSL             conda               mock                socketserver\n",
      "PIL                 conda_build         modulefinder        socks\n",
      "PyQt5               conda_content_trust mpmath              sockshandler\n",
      "TBB                 conda_env           msgpack             sortedcollections\n",
      "__future__          conda_pack          msilib              sortedcontainers\n",
      "_abc                conda_package_handling msvcrt              soupsieve\n",
      "_aix_support        conda_token         multipledispatch    sphinx\n",
      "_argon2_cffi_bindings conda_verify        multiprocessing     spyder\n",
      "_ast                configparser        munkres             spyder_kernels\n",
      "_asyncio            constantly          mypy_extensions     sqlalchemy\n",
      "_bisect             contextlib          nacl                sqlite3\n",
      "_black_version      contextvars         navigator_updater   sre_compile\n",
      "_blake2             cookiecutter        nbclassic           sre_constants\n",
      "_bootlocale         copy                nbclient            sre_parse\n",
      "_bootsubprocess     copyreg             nbconvert           ssl\n",
      "_bz2                crypt               nbformat            sspi\n",
      "_cffi_backend       cryptography        nest_asyncio        sspicon\n",
      "_codecs             cssselect           netbios             stat\n",
      "_codecs_cn          csv                 netrc               statistics\n",
      "_codecs_hk          ctypes              networkx            statsmodels\n",
      "_codecs_iso2022     curl                nltk                storemagic\n",
      "_codecs_jp          curses              nntplib             string\n",
      "_codecs_kr          cwp                 nose                stringprep\n",
      "_codecs_tw          cycler              notebook            struct\n",
      "_collections        cython              nt                  subprocess\n",
      "_collections_abc    cythonmagic         ntpath              sunau\n",
      "_compat_pickle      cytoolz             ntsecuritycon       symbol\n",
      "_compression        daal4py             nturl2path          sympy\n",
      "_contextvars        dask                numba               sympyprinting\n",
      "_csv                dataclasses         numbergen           symtable\n",
      "_ctypes             datashader          numbers             sys\n",
      "_ctypes_test        datashape           numexpr             sysconfig\n",
      "_datetime           datetime            numpy               tables\n",
      "_decimal            dateutil            numpydoc            tabnanny\n",
      "_distutils_hack     dbi                 odbc                tabulate\n",
      "_elementtree        dbm                 olefile             tarfile\n",
      "_functools          dde                 onedal              tbb\n",
      "_hashlib            debugpy             opcode              tblib\n",
      "_heapq              decimal             openpyxl            telnetlib\n",
      "_imp                decorator           operator            tempfile\n",
      "_io                 defusedxml          optparse            tenacity\n",
      "_json               diff_match_patch    os                  terminado\n",
      "_locale             difflib             packaging           test\n",
      "_lsprof             dill                pandas              test_pycosat\n",
      "_lzma               dis                 pandocfilters       testpath\n",
      "_markupbase         distributed         panel               tests\n",
      "_md5                distutils           param               text_unidecode\n",
      "_msi                doctest             paramiko            textdistance\n",
      "_multibytecodec     docutils            parsel              textwrap\n",
      "_multiprocessing    email               parser              this\n",
      "_nsis               encodings           parso               threading\n",
      "_opcode             ensurepip           partd               threadpoolctl\n",
      "_operator           entrypoints         past                three_merge\n",
      "_osx_support        enum                pathlib             tifffile\n",
      "_overlapped         erfa                pathspec            time\n",
      "_peg_parser         errno               patsy               timeit\n",
      "_pickle             et_xmlfile          pdb                 timer\n",
      "_plotly_future_     fastjsonschema      pep8                tinycss\n",
      "_plotly_utils       faulthandler        perfmon             tkinter\n",
      "_py_abc             filecmp             pexpect             tldextract\n",
      "_pydecimal          fileinput           pickle              tlz\n",
      "_pyio               filelock            pickleshare         token\n",
      "_pyrsistent_version flake8              pickletools         tokenize\n",
      "_pytest             flask               pip                 toml\n",
      "_queue              fnmatch             pipes               tomli\n",
      "_random             fontTools           pkg_resources       tomlkit\n",
      "_sha1               formatter           pkginfo             toolz\n",
      "_sha256             fractions           pkgutil             tornado\n",
      "_sha3               fsspec              platform            tqdm\n",
      "_sha512             ftplib              platformdirs        trace\n",
      "_signal             functools           plistlib            traceback\n",
      "_sitebuiltins       future              plotly              tracemalloc\n",
      "_socket             gc                  pluggy              traitlets\n",
      "_sqlite3            genericpath         ply                 tty\n",
      "_sre                gensim              poplib              turtle\n",
      "_ssl                getopt              posixpath           turtledemo\n",
      "_stat               getpass             poyo                twisted\n",
      "_statistics         gettext             pprint              types\n",
      "_string             glob                profile             typing\n",
      "_strptime           glob2               prometheus_client   typing_extensions\n",
      "_struct             graphlib            prompt_toolkit      ujson\n",
      "_symtable           greenlet            protego             unicodedata\n",
      "_system_path        gzip                pstats              unidecode\n",
      "_testbuffer         h5py                psutil              unittest\n",
      "_testcapi           hamcrest            pty                 urllib\n",
      "_testconsole        hashlib             ptyprocess          urllib3\n",
      "_testimportmultiple heapdict            pvectorc            uu\n",
      "_testinternalcapi   heapq               py                  uuid\n",
      "_testmultiphase     hmac                py_compile          venv\n",
      "_thread             holoviews           pyasn1              w3lib\n",
      "_threading_local    html                pyasn1_modules      warnings\n",
      "_tkinter            http                pyclbr              watchdog\n",
      "_tracemalloc        hvplot              pycodestyle         wave\n",
      "_uuid               hyperlink           pycosat             wcwidth\n",
      "_warnings           idlelib             pycparser           weakref\n",
      "_weakref            idna                pyct                webbrowser\n",
      "_weakrefset         imagecodecs         pycurl              webencodings\n",
      "_win32sysloader     imageio             pydispatch          websocket\n",
      "_winapi             imagesize           pydoc               werkzeug\n",
      "_winxptheme         imaplib             pydoc_data          wheel\n",
      "_xxsubinterpreters  imghdr              pydocstyle          widgetsnbextension\n",
      "_yaml               imp                 pyexpat             win2kras\n",
      "_zoneinfo           importlib           pyflakes            win32api\n",
      "abc                 importlib_metadata  pygments            win32clipboard\n",
      "adodbapi            incremental         pylab               win32com\n",
      "afxres              inflection          pylint              win32con\n",
      "aifc                iniconfig           pyls_spyder         win32console\n",
      "alabaster           inspect             pylsp               win32cred\n",
      "anaconda_navigator  intake              pylsp_black         win32crypt\n",
      "anaconda_project    intervaltree        pylsp_jsonrpc       win32cryptcon\n",
      "antigravity         io                  pyodbc              win32ctypes\n",
      "anyio               ipaddress           pyparsing           win32event\n",
      "appdirs             ipykernel           pyrsistent          win32evtlog\n",
      "argon2              ipykernel_launcher  pytest              win32evtlogutil\n",
      "argparse            ipython_genutils    pythoncom           win32file\n",
      "array               ipywidgets          pytz                win32gui\n",
      "arrow               isapi               pyviz_comms         win32gui_struct\n",
      "ast                 isort               pywin               win32help\n",
      "astroid             isympy              pywin32_bootstrap   win32inet\n",
      "astropy             itemadapter         pywin32_testutil    win32inetcon\n",
      "asynchat            itemloaders         pywintypes          win32job\n",
      "asyncio             itertools           pywt                win32lz\n",
      "asyncore            itsdangerous        pyximport           win32net\n",
      "atexit              jdcal               qdarkstyle          win32netcon\n",
      "atomicwrites        jedi                qstylizer           win32pdh\n",
      "attr                jellyfish           qtawesome           win32pdhquery\n",
      "attrs               jinja2              qtconsole           win32pdhutil\n",
      "audioop             jinja2_time         qtpy                win32pipe\n",
      "automat             jmespath            queue               win32print\n",
      "autopep8            joblib              queuelib            win32process\n",
      "autoreload          json                quopri              win32profile\n",
      "babel               json5               random              win32ras\n",
      "backcall            jsonschema          rasutil             win32rcparser\n",
      "backports           jupyter             re                  win32security\n",
      "base64              jupyter_client      regcheck            win32service\n",
      "bcrypt              jupyter_console     regex               win32serviceutil\n",
      "bdb                 jupyter_core        regutil             win32timezone\n",
      "binaryornot         jupyter_server      repo_cli            win32trace\n",
      "binascii            jupyterlab          reprlib             win32traceutil\n",
      "binhex              jupyterlab_plotly   requests            win32transaction\n",
      "binstar_client      jupyterlab_pygments requests_file       win32ts\n",
      "bisect              jupyterlab_server   rlcompleter         win32ui\n",
      "bitarray            jupyterlab_widgets  rmagic              win32uiole\n",
      "bkcharts            jupyterthemes       rope                win32verstamp\n",
      "black               jwt                 rtree               win32wnet\n",
      "blackd              keyring             ruamel_yaml         win_inet_pton\n",
      "bleach              keyword             run                 win_unicode_console\n",
      "blib2to3            kiwisolver          runpy               wincertstore\n",
      "bokeh               lazy_object_proxy   s3transfer          winerror\n",
      "boto3               lesscpy             sched               winioctlcon\n",
      "botocore            lib2to3             scipy               winnt\n",
      "bottleneck          libarchive          scrapy              winperf\n",
      "brotli              libfuturize         seaborn             winpty\n",
      "bs4                 libpasteurize       secrets             winreg\n",
      "builtins            lief                select              winsound\n",
      "bz2                 linecache           selectors           winxpgui\n",
      "cProfile            llvmlite            send2trash          winxptheme\n",
      "calendar            locale              service_identity    wrapt\n",
      "certifi             locket              servicemanager      wsgiref\n",
      "cffi                logging             setuptools          xarray\n",
      "cgi                 lxml                shelve              xdrlib\n",
      "cgitb               lz4                 shlex               xlrd\n",
      "chardet             lzma                shutil              xlsxwriter\n",
      "charset_normalizer  mailbox             signal              xlwings\n",
      "chunk               mailcap             sip                 xml\n",
      "click               markdown            sipconfig           xmlrpc\n",
      "cloudpickle         markupsafe          sipdistutils        xxsubtype\n",
      "clyent              marshal             site                yaml\n",
      "cmath               math                six                 yapf\n",
      "cmd                 matplotlib          skimage             yapftests\n",
      "code                matplotlib_inline   sklearn             zict\n",
      "codecs              mccabe              sklearnex           zipapp\n",
      "codeop              menuinst            slugify             zipfile\n",
      "collections         mimetypes           smart_open          zipimport\n",
      "colorama            mistune             smtpd               zipp\n",
      "colorcet            mkl                 smtplib             zlib\n",
      "colorsys            mkl_fft             snappy              zmq\n",
      "commctrl            mkl_random          sndhdr              zoneinfo\n",
      "compileall          mmap                sniffio             zope\n",
      "\n",
      "Enter any module name to get more help.  Or, type \"modules spam\" to search\n",
      "for modules whose name or summary contain the string \"spam\".\n",
      "\n"
     ]
    }
   ],
   "source": [
    "help(\"modules\")"
   ]
  },
  {
   "cell_type": "markdown",
   "id": "e8004f60",
   "metadata": {},
   "source": [
    "# Loops in python\n",
    "# 1. Need for loops.\n",
    "# 2. While loop\n",
    "# 3. for loop"
   ]
  },
  {
   "cell_type": "code",
   "execution_count": 39,
   "id": "525fcc75",
   "metadata": {},
   "outputs": [
    {
     "name": "stdout",
     "output_type": "stream",
     "text": [
      "enter the number:15\n",
      "15 * 1 = 15\n",
      "15 * 2 = 30\n",
      "15 * 3 = 45\n",
      "15 * 4 = 60\n",
      "15 * 5 = 75\n",
      "15 * 6 = 90\n",
      "15 * 7 = 105\n",
      "15 * 8 = 120\n",
      "15 * 9 = 135\n",
      "15 * 10 = 150\n"
     ]
    }
   ],
   "source": [
    "# print table\n",
    "number = int(input(\"enter the number:\"))\n",
    "i=1\n",
    "while i<11:\n",
    "    print(number,'*',i,'=',number * i)\n",
    "    i += 1"
   ]
  },
  {
   "cell_type": "code",
   "execution_count": 40,
   "id": "68a664fe",
   "metadata": {},
   "outputs": [
    {
     "name": "stdout",
     "output_type": "stream",
     "text": [
      "1\n",
      "2\n",
      "limit crossed\n"
     ]
    }
   ],
   "source": [
    "# while loop with else\n",
    "x = 1\n",
    "while x < 3:\n",
    "    print(x)\n",
    "    x += 1\n",
    "else:\n",
    "    print('limit crossed')"
   ]
  },
  {
   "cell_type": "code",
   "execution_count": 46,
   "id": "cb355e6a",
   "metadata": {},
   "outputs": [
    {
     "name": "stdout",
     "output_type": "stream",
     "text": [
      "guess karo50\n",
      "Wrong! guess higher\n",
      "guess karo75\n",
      "Wrong! guess lower\n",
      "guess karo65\n",
      "Wrong! guess lower\n",
      "guess karo55\n",
      "Wrong! guess lower\n",
      "guess karo53\n",
      "Wrong! guess higher\n",
      "guess karo5\n",
      "Wrong! guess higher\n",
      "guess karo54\n",
      "correct guess\n",
      "attempts 7\n"
     ]
    }
   ],
   "source": [
    "# Guessing Game\n",
    "\n",
    "# generate a random integer between 1 and 100.\n",
    "\n",
    "import random\n",
    "jackPotNum = random.randint(1,100)\n",
    "guess = int(input('guess karo'))\n",
    "counter = 1\n",
    "\n",
    "while guess != jackPotNum:\n",
    "    if guess<jackPotNum:\n",
    "        print('Wrong! guess higher')\n",
    "    else:\n",
    "        print('Wrong! guess lower')\n",
    "    \n",
    "    guess = int(input('guess karo'))\n",
    "    counter += 1\n",
    "else:\n",
    "    print('correct guess')\n",
    "    print('attempts',counter)"
   ]
  },
  {
   "cell_type": "code",
   "execution_count": 50,
   "id": "eb8738c0",
   "metadata": {},
   "outputs": [
    {
     "name": "stdout",
     "output_type": "stream",
     "text": [
      "10\n",
      "9\n",
      "8\n",
      "7\n",
      "6\n",
      "5\n",
      "4\n",
      "3\n",
      "2\n",
      "1\n"
     ]
    }
   ],
   "source": [
    "# more powerful / easy compare to other lang.\n",
    "# For loop uses range function (start,end,stepsize)\n",
    "for i in range(10,0,-1):\n",
    "    print(i)"
   ]
  },
  {
   "cell_type": "code",
   "execution_count": 51,
   "id": "9d0da04e",
   "metadata": {},
   "outputs": [
    {
     "name": "stdout",
     "output_type": "stream",
     "text": [
      "d\n",
      "e\n",
      "l\n",
      "h\n",
      "i\n"
     ]
    }
   ],
   "source": [
    "for i in 'delhi':\n",
    "    print(i)"
   ]
  },
  {
   "cell_type": "code",
   "execution_count": 52,
   "id": "93314330",
   "metadata": {},
   "outputs": [
    {
     "name": "stdout",
     "output_type": "stream",
     "text": [
      "1\n",
      "2\n",
      "3\n",
      "4\n"
     ]
    }
   ],
   "source": [
    "for i in [1,2,3,4]:\n",
    "    print(i)"
   ]
  },
  {
   "cell_type": "code",
   "execution_count": 54,
   "id": "d0028275",
   "metadata": {},
   "outputs": [
    {
     "name": "stdout",
     "output_type": "stream",
     "text": [
      "1\n",
      "2\n",
      "3\n",
      "4\n"
     ]
    }
   ],
   "source": [
    "for i in (1,2,3,4):\n",
    "    print(i)"
   ]
  },
  {
   "cell_type": "code",
   "execution_count": 1,
   "id": "51aab7b8",
   "metadata": {
    "scrolled": true
   },
   "outputs": [
    {
     "name": "stdout",
     "output_type": "stream",
     "text": [
      "10 10000\n",
      "9 9090.90909090909\n",
      "8 8264.462809917353\n",
      "7 7513.148009015775\n",
      "6 6830.134553650703\n",
      "5 6209.213230591548\n",
      "4 5644.739300537771\n",
      "3 5131.5811823070635\n",
      "2 4665.07380209733\n",
      "1 4240.976183724845\n"
     ]
    }
   ],
   "source": [
    "# Program - the current population of a town is 10000. The population of the town is increasing at the rate of 10% per yer.you have to write a prorgam to find out the population at the end of the last 10 years.\n",
    "# populaltion in 9th year = x\n",
    "# x + 10%ofx = 10000\n",
    "# x + 0.1x = 10000\n",
    "# 1.1x = 10000\n",
    "# x = 10000/1.1\n",
    "\n",
    "cur_pop = 10000\n",
    "\n",
    "for i in range(10,0,-1):\n",
    "    print(i,cur_pop)\n",
    "    cur_pop = cur_pop / 1.1"
   ]
  },
  {
   "cell_type": "code",
   "execution_count": 3,
   "id": "d3b40e12",
   "metadata": {},
   "outputs": [
    {
     "name": "stdout",
     "output_type": "stream",
     "text": [
      "enter n: 3\n",
      "2.5\n"
     ]
    }
   ],
   "source": [
    "# Sequence sum\n",
    "# 1/1! + 2/2! + 3/3! + ....\n",
    "\n",
    "n = int(input(\"enter n: \"))\n",
    "res = 0\n",
    "fact = 1\n",
    "\n",
    "for i in range(1,n+1):\n",
    "    fact = fact * i\n",
    "    res = res + i/fact\n",
    "print(res)"
   ]
  },
  {
   "cell_type": "code",
   "execution_count": 4,
   "id": "6038b957",
   "metadata": {},
   "outputs": [
    {
     "name": "stdout",
     "output_type": "stream",
     "text": [
      "enter the value of n: 2\n",
      "1 1\n",
      "1 2\n",
      "2 1\n",
      "2 2\n"
     ]
    }
   ],
   "source": [
    "# Nested loops ---> loop inside loop\n",
    "# examples --> unique pairs\n",
    "\n",
    "n = int(input('enter the value of n: '))\n",
    "for i in range(1,n+1):\n",
    "    for j  in range(1,n+1):\n",
    "        print(i,j)"
   ]
  },
  {
   "cell_type": "code",
   "execution_count": 8,
   "id": "15dc0ce6",
   "metadata": {},
   "outputs": [
    {
     "name": "stdout",
     "output_type": "stream",
     "text": [
      "enter the number of rows: 5\n",
      "*\n",
      "**\n",
      "***\n",
      "****\n",
      "*****\n"
     ]
    }
   ],
   "source": [
    "# Pattern 1\n",
    "# half pyramid star pattern\n",
    "\n",
    "# *\n",
    "# * *\n",
    "# * * *\n",
    "# * * * *\n",
    "\n",
    "rows = int(input('enter the number of rows: '))\n",
    "\n",
    "for i in range(1,rows+1):\n",
    "    for j in range(1,i+1):\n",
    "        print(\"*\",end='')\n",
    "    print()"
   ]
  },
  {
   "cell_type": "code",
   "execution_count": 10,
   "id": "3f7ac235",
   "metadata": {},
   "outputs": [
    {
     "name": "stdout",
     "output_type": "stream",
     "text": [
      "enter the number of rows :5\n",
      "1\n",
      "22\n",
      "333\n",
      "4444\n",
      "55555\n"
     ]
    }
   ],
   "source": [
    "# Pattern 2\n",
    "# Number pattern\n",
    "# 1\n",
    "# 22\n",
    "# 333\n",
    "# 4444\n",
    "\n",
    "rows = int(input('enter the number of rows :'))\n",
    "\n",
    "for i in range(1,rows+1):\n",
    "    for j in range(1,i+1):\n",
    "        print(i,end= '')\n",
    "    print()"
   ]
  },
  {
   "cell_type": "code",
   "execution_count": 14,
   "id": "d6773af4",
   "metadata": {},
   "outputs": [
    {
     "name": "stdout",
     "output_type": "stream",
     "text": [
      "enter the number of rows: 5\n",
      "1 \n",
      "1 2 1 \n",
      "1 2 3 2 1 \n",
      "1 2 3 4 3 2 1 \n",
      "1 2 3 4 5 4 3 2 1 \n"
     ]
    }
   ],
   "source": [
    "# pattern 3\n",
    "\n",
    "# 1\n",
    "# 121\n",
    "# 12321\n",
    "# 1234321\n",
    "\n",
    "rows = int(input('enter the number of rows: '))\n",
    "\n",
    "for i in range(1,rows+1):\n",
    "    for j in range(1,i+1):\n",
    "        print(j,end=' ')\n",
    "    for k in range(i-1,0,-1):\n",
    "        print(k,end=' ')\n",
    "        \n",
    "    print()"
   ]
  },
  {
   "cell_type": "code",
   "execution_count": 16,
   "id": "a0fb7c33",
   "metadata": {},
   "outputs": [
    {
     "name": "stdout",
     "output_type": "stream",
     "text": [
      "1\n",
      "2\n",
      "3\n",
      "4\n"
     ]
    }
   ],
   "source": [
    "# loop control statement\n",
    "# 1. Break\n",
    "# 2. Continue\n",
    "# 3. Pass\n",
    "\n",
    "for i in range(1,10):\n",
    "    if i == 5:\n",
    "        break\n",
    "    print(i)\n",
    "# break used in linear search, searching someone in database."
   ]
  },
  {
   "cell_type": "code",
   "execution_count": 17,
   "id": "4e1ded48",
   "metadata": {
    "scrolled": true
   },
   "outputs": [
    {
     "name": "stdout",
     "output_type": "stream",
     "text": [
      "1\n",
      "2\n",
      "3\n",
      "4\n",
      "6\n",
      "7\n",
      "8\n",
      "9\n"
     ]
    }
   ],
   "source": [
    "#  iteration skip\n",
    "for i in range(1,10):\n",
    "    if i == 5:\n",
    "        continue\n",
    "    print(i)"
   ]
  },
  {
   "cell_type": "code",
   "execution_count": 19,
   "id": "30fe453e",
   "metadata": {},
   "outputs": [
    {
     "name": "stdout",
     "output_type": "stream",
     "text": [
      "enter the lower range :10\n",
      "enter the upper range :20\n",
      "11\n",
      "13\n",
      "17\n",
      "19\n"
     ]
    }
   ],
   "source": [
    "# finding a prime number\n",
    "lower = int(input('enter the lower range :'))\n",
    "upper = int(input('enter the upper range :'))\n",
    "\n",
    "for i in range(lower,upper+1):\n",
    "    for j in range(2,i):\n",
    "        if i%j == 0:\n",
    "            break\n",
    "    else:\n",
    "        print(i)"
   ]
  },
  {
   "cell_type": "code",
   "execution_count": 21,
   "id": "2b8717be",
   "metadata": {},
   "outputs": [],
   "source": [
    "# pass\n",
    "for i in range(1,10):\n",
    "    pass"
   ]
  }
 ],
 "metadata": {
  "kernelspec": {
   "display_name": "Python 3 (ipykernel)",
   "language": "python",
   "name": "python3"
  },
  "language_info": {
   "codemirror_mode": {
    "name": "ipython",
    "version": 3
   },
   "file_extension": ".py",
   "mimetype": "text/x-python",
   "name": "python",
   "nbconvert_exporter": "python",
   "pygments_lexer": "ipython3",
   "version": "3.10.9"
  }
 },
 "nbformat": 4,
 "nbformat_minor": 5
}
