{
 "cells": [
  {
   "cell_type": "markdown",
   "id": "841c7ec2",
   "metadata": {},
   "source": [
    "# Find the length of a given string without using len() function."
   ]
  },
  {
   "cell_type": "code",
   "execution_count": 1,
   "id": "c74a9fe9",
   "metadata": {},
   "outputs": [
    {
     "name": "stdout",
     "output_type": "stream",
     "text": [
      "Enter the string:Hello\n",
      "Hello\n",
      "Length of string is 5\n"
     ]
    }
   ],
   "source": [
    "s = input(\"Enter the string:\")\n",
    "print(s)\n",
    "cnt = 0\n",
    "for i in s:\n",
    "    cnt+=1\n",
    "print('Length of string is',cnt)"
   ]
  },
  {
   "cell_type": "markdown",
   "id": "37af3f80",
   "metadata": {},
   "source": [
    "# Extract username from a given email.\n",
    "# Eg: if the email is ab024cd@gmail.com.\n",
    "# then the username should be ab024cd."
   ]
  },
  {
   "cell_type": "code",
   "execution_count": 3,
   "id": "cd821762",
   "metadata": {},
   "outputs": [
    {
     "name": "stdout",
     "output_type": "stream",
     "text": [
      "Enter the emailL:abcde@gmail.com\n",
      "abcde@gmail.com\n",
      "abcde\n"
     ]
    }
   ],
   "source": [
    "email = input('Enter the emailL:')\n",
    "print(email)\n",
    "pos = email.index('@')\n",
    "print(email[:pos])"
   ]
  },
  {
   "cell_type": "markdown",
   "id": "564df3a4",
   "metadata": {},
   "source": [
    "# count the frequency of a particular charater in a provided string.\n",
    "# Eg: 'hello how are you' is the string, the frequency of h in this string is 2."
   ]
  },
  {
   "cell_type": "code",
   "execution_count": 10,
   "id": "b44ff344",
   "metadata": {},
   "outputs": [
    {
     "name": "stdout",
     "output_type": "stream",
     "text": [
      "Enter the string:hello are you there\n",
      "hello are you there\n",
      "What term you are searching:e\n",
      "e\n",
      "Frequncy of the term is:  4\n"
     ]
    }
   ],
   "source": [
    "s = input('Enter the string:')\n",
    "print(s)\n",
    "term = input('What term you are searching:')\n",
    "print(term)\n",
    "\n",
    "cnt = 0\n",
    "for i in s:\n",
    "    if i == term:\n",
    "        cnt+=1\n",
    "\n",
    "print(\"Frequncy of the term is: \",cnt)"
   ]
  },
  {
   "cell_type": "markdown",
   "id": "bc594715",
   "metadata": {},
   "source": [
    "# W.A.P which can remove a particular character from a string."
   ]
  },
  {
   "cell_type": "code",
   "execution_count": 12,
   "id": "d8128a18",
   "metadata": {},
   "outputs": [
    {
     "name": "stdout",
     "output_type": "stream",
     "text": [
      "Enter the string:gaurav\n",
      "What do wnat to remove:a\n",
      "gurv\n"
     ]
    }
   ],
   "source": [
    "s = input('Enter the string:')\n",
    "removechar = input('What do wnat to remove:')\n",
    "\n",
    "# we have create an empty string becoz strings are immuatble which means you cannnot directly do the changes in a given string\n",
    "result = ''\n",
    "\n",
    "for i in s:\n",
    "    if i != removechar:\n",
    "        result = result + i\n",
    "print(result)"
   ]
  },
  {
   "cell_type": "markdown",
   "id": "9f1be997",
   "metadata": {},
   "source": [
    "# W.A.P that can wheather a given string is palindrome or not."
   ]
  },
  {
   "cell_type": "code",
   "execution_count": 17,
   "id": "4b1ec72a",
   "metadata": {},
   "outputs": [
    {
     "name": "stdout",
     "output_type": "stream",
     "text": [
      "enter the string:abcd\n",
      "Not a plaindrome\n"
     ]
    }
   ],
   "source": [
    "s = input('enter the string:')\n",
    "\n",
    "flag = True\n",
    "for i in range(0,len(s)//2):\n",
    "    if s[i] != s[len(s) - i - 1]:\n",
    "        flag = False\n",
    "        print('Not a plaindrome')\n",
    "        break\n",
    "if flag:\n",
    "    print('Plaindrome')"
   ]
  },
  {
   "cell_type": "markdown",
   "id": "d639e813",
   "metadata": {},
   "source": [
    "# W.A.P to count the number of words in a string without split() function."
   ]
  },
  {
   "cell_type": "code",
   "execution_count": 19,
   "id": "71d238b5",
   "metadata": {},
   "outputs": [
    {
     "name": "stdout",
     "output_type": "stream",
     "text": [
      "Enter the string:he is a good boy\n",
      "['he', 'is', 'a', 'good', 'boy']\n"
     ]
    }
   ],
   "source": [
    "s = input('Enter the string:')\n",
    "\n",
    "l = []\n",
    "\n",
    "tmp = ''\n",
    "for i in s:\n",
    "    if i != ' ':\n",
    "        tmp += i\n",
    "    else:\n",
    "        l.append(tmp)\n",
    "        tmp=''\n",
    "        \n",
    "l.append(tmp)\n",
    "print(l)"
   ]
  },
  {
   "cell_type": "markdown",
   "id": "e1bf7272",
   "metadata": {},
   "source": [
    "# W.A.P to ocnvert a string to title case without using the title() function."
   ]
  },
  {
   "cell_type": "code",
   "execution_count": 23,
   "id": "24a4ae22",
   "metadata": {},
   "outputs": [
    {
     "name": "stdout",
     "output_type": "stream",
     "text": [
      "Enter the string:hElLo aRe yoU oKay\n",
      "Hello Are You Okay\n"
     ]
    }
   ],
   "source": [
    "s = input('Enter the string:')\n",
    "\n",
    "l = []\n",
    "for i in s.split():\n",
    "    l.append(i[0].upper() + i[1:].lower())\n",
    "print(\" \".join(l))"
   ]
  },
  {
   "cell_type": "markdown",
   "id": "8e0d08c9",
   "metadata": {},
   "source": [
    "# W.A.P that convert an integer to string. without using str()"
   ]
  },
  {
   "cell_type": "code",
   "execution_count": 27,
   "id": "ad150e67",
   "metadata": {},
   "outputs": [
    {
     "name": "stdout",
     "output_type": "stream",
     "text": [
      "Enter the number: 80880\n",
      "80880\n",
      "<class 'str'>\n"
     ]
    }
   ],
   "source": [
    "number = int(input('Enter the number: '))\n",
    "\n",
    "digits = '0123456789'\n",
    "res = ''\n",
    "\n",
    "while number != 0:\n",
    "    res = digits[number%10] + res\n",
    "    number = number //10\n",
    "print(res)\n",
    "print(type(res))"
   ]
  }
 ],
 "metadata": {
  "kernelspec": {
   "display_name": "Python 3 (ipykernel)",
   "language": "python",
   "name": "python3"
  },
  "language_info": {
   "codemirror_mode": {
    "name": "ipython",
    "version": 3
   },
   "file_extension": ".py",
   "mimetype": "text/x-python",
   "name": "python",
   "nbconvert_exporter": "python",
   "pygments_lexer": "ipython3",
   "version": "3.10.9"
  }
 },
 "nbformat": 4,
 "nbformat_minor": 5
}
