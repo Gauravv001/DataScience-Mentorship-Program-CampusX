{
 "cells": [
  {
   "cell_type": "markdown",
   "id": "877d926a",
   "metadata": {},
   "source": [
    "Today's topics\n",
    "1. About python\n",
    "2. Data Types\n",
    "3. Variables,Keywords and identifiers\n",
    "4. Python input/output\n",
    "5. If/else statements"
   ]
  },
  {
   "cell_type": "markdown",
   "id": "b453e1d6",
   "metadata": {},
   "source": [
    "Why Python ???\n",
    "1. Design philosophy\n",
    "2. Batteries included (don't re-invent the wheel other way around just take that wheel and build a brand new car)\n",
    "3. General purpose\n",
    "4. Libraries/Community"
   ]
  },
  {
   "cell_type": "markdown",
   "id": "73165839",
   "metadata": {},
   "source": [
    "Why python for data science ??\n",
    "1. easy to learn.\n",
    "2. Proximity with maths.\n",
    "3. community "
   ]
  },
  {
   "cell_type": "code",
   "execution_count": 9,
   "id": "488fc08c",
   "metadata": {},
   "outputs": [
    {
     "name": "stdout",
     "output_type": "stream",
     "text": [
      "Hello world\n",
      "Salman khan\n",
      "ABC\n"
     ]
    }
   ],
   "source": [
    "#Python output\n",
    "#Python is a case-sensitive language.\n",
    "print('Hello world')\n",
    "print(\"Salman khan\")\n",
    "print(\"\"\"ABC\"\"\")"
   ]
  },
  {
   "cell_type": "code",
   "execution_count": 4,
   "id": "e8c54b67",
   "metadata": {},
   "outputs": [
    {
     "ename": "NameError",
     "evalue": "name 'Abc' is not defined",
     "output_type": "error",
     "traceback": [
      "\u001b[1;31m---------------------------------------------------------------------------\u001b[0m",
      "\u001b[1;31mNameError\u001b[0m                                 Traceback (most recent call last)",
      "\u001b[1;32m~\\AppData\\Local\\Temp\\ipykernel_18716\\901600647.py\u001b[0m in \u001b[0;36m<module>\u001b[1;34m\u001b[0m\n\u001b[1;32m----> 1\u001b[1;33m \u001b[0mprint\u001b[0m\u001b[1;33m(\u001b[0m\u001b[0mAbc\u001b[0m\u001b[1;33m)\u001b[0m\u001b[1;33m\u001b[0m\u001b[1;33m\u001b[0m\u001b[0m\n\u001b[0m",
      "\u001b[1;31mNameError\u001b[0m: name 'Abc' is not defined"
     ]
    }
   ],
   "source": [
    "# \"inverted commas\" is the only way you can tell python about strings.\n",
    "print(Abc)"
   ]
  },
  {
   "cell_type": "code",
   "execution_count": 10,
   "id": "8d2f2de9",
   "metadata": {},
   "outputs": [
    {
     "name": "stdout",
     "output_type": "stream",
     "text": [
      "7\n",
      "100\n",
      "-1\n",
      "9.1\n",
      "1.4583\n"
     ]
    }
   ],
   "source": [
    "# integer,float and double\n",
    "print(7)\n",
    "print(100)\n",
    "print(-1)\n",
    "print(9.1)\n",
    "print(1.4583)"
   ]
  },
  {
   "cell_type": "code",
   "execution_count": 8,
   "id": "c166b0fe",
   "metadata": {},
   "outputs": [
    {
     "name": "stdout",
     "output_type": "stream",
     "text": [
      "True\n",
      "False\n"
     ]
    }
   ],
   "source": [
    "#Boolean\n",
    "print(True)\n",
    "print(False)"
   ]
  },
  {
   "cell_type": "code",
   "execution_count": 11,
   "id": "2392c642",
   "metadata": {},
   "outputs": [
    {
     "name": "stdout",
     "output_type": "stream",
     "text": [
      "Hello 7 2.3 True\n"
     ]
    }
   ],
   "source": [
    "#Multiple \n",
    "print('Hello',7,2.3,True)\n",
    "print()"
   ]
  },
  {
   "cell_type": "code",
   "execution_count": 1,
   "id": "8dcfb8a9",
   "metadata": {},
   "outputs": [
    {
     "name": "stdout",
     "output_type": "stream",
     "text": [
      "Hello\n",
      "World\n"
     ]
    }
   ],
   "source": [
    "print('Hello')\n",
    "print('World')"
   ]
  },
  {
   "cell_type": "code",
   "execution_count": 4,
   "id": "772f3364",
   "metadata": {},
   "outputs": [
    {
     "name": "stdout",
     "output_type": "stream",
     "text": [
      "hello-world\n"
     ]
    }
   ],
   "source": [
    "# print(print.__doc__)\n",
    "print('hello',end=\"-\")\n",
    "print('world')"
   ]
  },
  {
   "cell_type": "code",
   "execution_count": 5,
   "id": "90dae3d6",
   "metadata": {},
   "outputs": [
    {
     "name": "stdout",
     "output_type": "stream",
     "text": [
      "10\n",
      "x\n"
     ]
    }
   ],
   "source": [
    "x = 10\n",
    "print(x)\n",
    "print('x')\n",
    "# As you can see, 'x' printed x and x printed 10. \n",
    "# This means that 'x' is a simple alphabetical x and x (without quotes) is a variable with a value of 10."
   ]
  },
  {
   "cell_type": "code",
   "execution_count": 6,
   "id": "5cdd3c33",
   "metadata": {},
   "outputs": [
    {
     "name": "stdout",
     "output_type": "stream",
     "text": [
      "ab\n"
     ]
    }
   ],
   "source": [
    "print(\"a\" + \"b\")"
   ]
  },
  {
   "cell_type": "code",
   "execution_count": 7,
   "id": "74342b67",
   "metadata": {},
   "outputs": [
    {
     "name": "stdout",
     "output_type": "stream",
     "text": [
      "FunFunFun\n"
     ]
    }
   ],
   "source": [
    "print('Fun'*3)\n",
    " # The message to be printed is equivalent to \"Fun\"+\"Fun\"+\"Fun\"."
   ]
  },
  {
   "cell_type": "code",
   "execution_count": 13,
   "id": "8735929b",
   "metadata": {},
   "outputs": [
    {
     "name": "stdout",
     "output_type": "stream",
     "text": [
      "10\n",
      "200\n",
      "1e+308\n",
      "inf\n"
     ]
    }
   ],
   "source": [
    "# Data Types\n",
    "# 1. Integer\n",
    "print(10)\n",
    "print(200)\n",
    "\n",
    "# Highest int that can be stored in python\n",
    "# 1*10^308\n",
    "print(1e308)\n",
    "\n",
    "# What if we entered a number bigger than this\n",
    "print(1e309)"
   ]
  },
  {
   "cell_type": "code",
   "execution_count": 15,
   "id": "1584d07f",
   "metadata": {},
   "outputs": [
    {
     "name": "stdout",
     "output_type": "stream",
     "text": [
      "3.4\n",
      "58.4\n",
      "1.7e+308\n",
      "inf\n"
     ]
    }
   ],
   "source": [
    "# 2. Decimal / float\n",
    "print(3.4)\n",
    "print(58.4)\n",
    "\n",
    "# Highest int that can be stored in python\n",
    "# 1.7*10^308\n",
    "print(1.7e308)\n",
    "\n",
    "# What if we entered a number bigger than this\n",
    "print(1.7e309)"
   ]
  },
  {
   "cell_type": "code",
   "execution_count": 16,
   "id": "8b05efe0",
   "metadata": {},
   "outputs": [
    {
     "name": "stdout",
     "output_type": "stream",
     "text": [
      "True\n",
      "False\n"
     ]
    }
   ],
   "source": [
    "# Boolean \n",
    "print(True)\n",
    "print(False)\n",
    "\n",
    "#Note that True and false is not written inside commas becoz it is not a text."
   ]
  },
  {
   "cell_type": "code",
   "execution_count": 17,
   "id": "335097a3",
   "metadata": {},
   "outputs": [
    {
     "name": "stdout",
     "output_type": "stream",
     "text": [
      "string\n"
     ]
    }
   ],
   "source": [
    "# String/text\n",
    "print(\"string\")"
   ]
  },
  {
   "cell_type": "code",
   "execution_count": 18,
   "id": "010fe5bf",
   "metadata": {},
   "outputs": [
    {
     "name": "stdout",
     "output_type": "stream",
     "text": [
      "(5+6j)\n"
     ]
    }
   ],
   "source": [
    "# Complex\n",
    "print(5+6j)"
   ]
  },
  {
   "cell_type": "code",
   "execution_count": 19,
   "id": "e999c307",
   "metadata": {},
   "outputs": [
    {
     "name": "stdout",
     "output_type": "stream",
     "text": [
      "[1, 2, 3, 4, 5]\n"
     ]
    }
   ],
   "source": [
    "# List \n",
    "# almost same as arrays in cpp.\n",
    "l = [1,2,3,4,5]\n",
    "print(l)"
   ]
  },
  {
   "cell_type": "code",
   "execution_count": 20,
   "id": "3b6c9278",
   "metadata": {},
   "outputs": [
    {
     "name": "stdout",
     "output_type": "stream",
     "text": [
      "(1, 2, 3, 4, 5)\n"
     ]
    }
   ],
   "source": [
    "# Tuples\n",
    "t = (1,2,3,4,5)\n",
    "print(t)"
   ]
  },
  {
   "cell_type": "code",
   "execution_count": 21,
   "id": "1d3d85a8",
   "metadata": {},
   "outputs": [
    {
     "name": "stdout",
     "output_type": "stream",
     "text": [
      "{1, 2, 3, 4, 5}\n"
     ]
    }
   ],
   "source": [
    "# Sets\n",
    "s = {1,2,3,4,5}\n",
    "print(s)"
   ]
  },
  {
   "cell_type": "code",
   "execution_count": 22,
   "id": "ee50c7ad",
   "metadata": {},
   "outputs": [
    {
     "name": "stdout",
     "output_type": "stream",
     "text": [
      "{'name': 'abc', 'age': 34, 'gender': 'male'}\n"
     ]
    }
   ],
   "source": [
    "# Dict.\n",
    "d = {\"name\":\"abc\",\"age\":34,\"gender\":\"male\"}\n",
    "print(d)"
   ]
  },
  {
   "cell_type": "code",
   "execution_count": 23,
   "id": "b726a71e",
   "metadata": {},
   "outputs": [
    {
     "name": "stdout",
     "output_type": "stream",
     "text": [
      "<class 'float'>\n",
      "<class 'int'>\n",
      "<class 'list'>\n"
     ]
    }
   ],
   "source": [
    "# type and (.__doc__)\n",
    "print(type(10.2))\n",
    "print(type(10))\n",
    "print(type(l))"
   ]
  },
  {
   "cell_type": "code",
   "execution_count": 26,
   "id": "1be6bfd8",
   "metadata": {},
   "outputs": [
    {
     "name": "stdout",
     "output_type": "stream",
     "text": [
      "print(value, ..., sep=' ', end='\\n', file=sys.stdout, flush=False)\n",
      "\n",
      "Prints the values to a stream, or to sys.stdout by default.\n",
      "Optional keyword arguments:\n",
      "file:  a file-like object (stream); defaults to the current sys.stdout.\n",
      "sep:   string inserted between values, default a space.\n",
      "end:   string appended after the last value, default a newline.\n",
      "flush: whether to forcibly flush the stream.-type(object) -> the object's type\n",
      "type(name, bases, dict, **kwds) -> a new type\n"
     ]
    }
   ],
   "source": [
    "print(print.__doc__)"
   ]
  },
  {
   "cell_type": "code",
   "execution_count": 27,
   "id": "dbabb676",
   "metadata": {},
   "outputs": [
    {
     "name": "stdout",
     "output_type": "stream",
     "text": [
      "type(object) -> the object's type\n",
      "type(name, bases, dict, **kwds) -> a new type\n"
     ]
    }
   ],
   "source": [
    "print(type.__doc__)"
   ]
  },
  {
   "cell_type": "code",
   "execution_count": 28,
   "id": "8b087624",
   "metadata": {},
   "outputs": [
    {
     "name": "stdout",
     "output_type": "stream",
     "text": [
      "gaurav\n"
     ]
    }
   ],
   "source": [
    "# variables in python\n",
    "name = \"gaurav\"\n",
    "print(name)"
   ]
  },
  {
   "cell_type": "code",
   "execution_count": 29,
   "id": "c64df9d4",
   "metadata": {},
   "outputs": [
    {
     "name": "stdout",
     "output_type": "stream",
     "text": [
      "20\n"
     ]
    }
   ],
   "source": [
    "a = 8\n",
    "b = 12\n",
    "print(a+b)"
   ]
  },
  {
   "cell_type": "code",
   "execution_count": 30,
   "id": "efddce34",
   "metadata": {},
   "outputs": [
    {
     "name": "stdout",
     "output_type": "stream",
     "text": [
      "19\n"
     ]
    }
   ],
   "source": [
    "# static typing is what we do in other languages such as cpp or c++.\n",
    "# int a = 8;\n",
    "\n",
    "# Dynamic typing means you do not tell the data type to the python as it automatically detects the type of data.\n",
    "# python interpreter is inteliigent enough to handle the type of data by given the value \n",
    "c = 19\n",
    "print(c)"
   ]
  },
  {
   "cell_type": "code",
   "execution_count": 31,
   "id": "6b444309",
   "metadata": {},
   "outputs": [
    {
     "name": "stdout",
     "output_type": "stream",
     "text": [
      "6\n",
      "gaurav\n"
     ]
    }
   ],
   "source": [
    "# Static binding vs dynamic binding\n",
    "# SB means you cannot change the type of data at any given point of time. ex: cpp ,java or c++.\n",
    "# DB means you can change the type of data at any given point of time. \n",
    "\n",
    "a = 6\n",
    "print(a)\n",
    "a = \"gaurav\"\n",
    "print(a)"
   ]
  },
  {
   "cell_type": "code",
   "execution_count": 33,
   "id": "75d52c84",
   "metadata": {},
   "outputs": [
    {
     "name": "stdout",
     "output_type": "stream",
     "text": [
      "2 4 7\n"
     ]
    }
   ],
   "source": [
    "a = 2\n",
    "b = 4\n",
    "c = 7\n",
    "print(a,b,c)"
   ]
  },
  {
   "cell_type": "code",
   "execution_count": 34,
   "id": "411de7bb",
   "metadata": {},
   "outputs": [
    {
     "name": "stdout",
     "output_type": "stream",
     "text": [
      "2 4 7\n"
     ]
    }
   ],
   "source": [
    "# another way of doing the same thing differently\n",
    "a,b,c = 2,4,7\n",
    "print(a,b,c)"
   ]
  },
  {
   "cell_type": "code",
   "execution_count": 35,
   "id": "3563530c",
   "metadata": {},
   "outputs": [
    {
     "name": "stdout",
     "output_type": "stream",
     "text": [
      "7 7 7\n"
     ]
    }
   ],
   "source": [
    "a=b=c=7\n",
    "print(a,b,c)"
   ]
  },
  {
   "cell_type": "code",
   "execution_count": 8,
   "id": "1b55f504",
   "metadata": {},
   "outputs": [
    {
     "name": "stdout",
     "output_type": "stream",
     "text": [
      "['False', 'None', 'True', '__peg_parser__', 'and', 'as', 'assert', 'async', 'await', 'break', 'class', 'continue', 'def', 'del', 'elif', 'else', 'except', 'finally', 'for', 'from', 'global', 'if', 'import', 'in', 'is', 'lambda', 'nonlocal', 'not', 'or', 'pass', 'raise', 'return', 'try', 'while', 'with', 'yield']\n"
     ]
    }
   ],
   "source": [
    "# Keywords and Identifiers\n",
    "# Reserved words which are used by Interpreter. \n",
    "import keyword\n",
    "print(keyword.kwlist)"
   ]
  },
  {
   "cell_type": "code",
   "execution_count": 14,
   "id": "392550c1",
   "metadata": {},
   "outputs": [
    {
     "name": "stdout",
     "output_type": "stream",
     "text": [
      "abc\n",
      "abc\n",
      "singleUnderscore\n",
      "doubleUnderscore\n"
     ]
    }
   ],
   "source": [
    "#Identifiers\n",
    "# 1.cannot start with a digit.\n",
    "name1 = 'abc'\n",
    "print(name1)\n",
    "\n",
    "# 2.You can only use special chars like _(underscore)\n",
    "first_name = 'abc'\n",
    "print(first_name)\n",
    "\n",
    "_ = 'singleUnderscore'\n",
    "print(_)\n",
    "\n",
    "__ = 'doubleUnderscore'\n",
    "print(__)"
   ]
  },
  {
   "cell_type": "code",
   "execution_count": 17,
   "id": "240bdbde",
   "metadata": {},
   "outputs": [
    {
     "name": "stdout",
     "output_type": "stream",
     "text": [
      "enter the first number:12\n",
      "enter the second number:16\n",
      "28\n"
     ]
    }
   ],
   "source": [
    "# User Input\n",
    "# Note that while taking input with the help of input.it will always take i/p as literal\n",
    "# in order to get the right result we have to use type conversion.\n",
    "\n",
    "# Take input from users and store them in a variable.\n",
    "a = int(input('enter the first number:'))\n",
    "b = int(input('enter the second number:'))\n",
    "\n",
    "# Add the 2 variables.\n",
    "res = a + b\n",
    "\n",
    "# Print the result\n",
    "print(res)\n",
    "\n",
    "# agar hum input lete wqt hi type conversion krde tho vho permanent ho jayega otherwise change nhi hoga.\n",
    "# string is a universal format."
   ]
  },
  {
   "cell_type": "code",
   "execution_count": 18,
   "id": "d323b473",
   "metadata": {},
   "outputs": [
    {
     "name": "stdout",
     "output_type": "stream",
     "text": [
      "10.6\n",
      "<class 'int'>\n",
      "<class 'float'>\n"
     ]
    }
   ],
   "source": [
    "# Type conversion\n",
    "# python type conversion doesn't changes the original data.It creates a new value and work on it.\n",
    "# Implicit vs Explicit type conversion\n",
    "print(5+5.6)\n",
    "print(type(5))\n",
    "print(type(5.6))"
   ]
  },
  {
   "cell_type": "code",
   "execution_count": 22,
   "id": "3ca3ca54",
   "metadata": {},
   "outputs": [
    {
     "name": "stdout",
     "output_type": "stream",
     "text": [
      "8\n"
     ]
    }
   ],
   "source": [
    "# Print(4+'4')  you cannot do this. \n",
    "print(4+ int('4'))\n",
    "\n",
    "# print(int(4+5j)) there is an info. loss so that why this is not allowed."
   ]
  },
  {
   "cell_type": "code",
   "execution_count": 24,
   "id": "6e1f404f",
   "metadata": {},
   "outputs": [
    {
     "name": "stdout",
     "output_type": "stream",
     "text": [
      "10\n",
      "100\n",
      "200\n",
      "300\n"
     ]
    }
   ],
   "source": [
    "# Literal --> Varible ko jo value milta hai vho hota hai literal.\n",
    "\n",
    "a = 0b1010 #Binary literal\n",
    "print(a)\n",
    "\n",
    "b = 100 #Decimal literal\n",
    "print(b)\n",
    "\n",
    "c = 0o310 #Octal literal\n",
    "print(c)\n",
    "\n",
    "d = 0x12c #Hexadecimal literal\n",
    "print(d)"
   ]
  },
  {
   "cell_type": "code",
   "execution_count": 25,
   "id": "f1f2d712",
   "metadata": {},
   "outputs": [
    {
     "name": "stdout",
     "output_type": "stream",
     "text": [
      "10.5\n",
      "150.0\n",
      "0.0015\n"
     ]
    }
   ],
   "source": [
    "# float literal\n",
    "float_1 = 10.5\n",
    "print(float_1)\n",
    "\n",
    "float_2 = 1.5e2  #1.5 * 10^2\n",
    "print(float_2)\n",
    "\n",
    "float_3 = 1.5e-3  #1.5 * 10^-3\n",
    "print(float_3)"
   ]
  },
  {
   "cell_type": "code",
   "execution_count": 26,
   "id": "9373d0fa",
   "metadata": {},
   "outputs": [
    {
     "name": "stdout",
     "output_type": "stream",
     "text": [
      "3.14j\n",
      "0.0\n",
      "3.14\n"
     ]
    }
   ],
   "source": [
    "# Complex literal\n",
    "x = 3.14j\n",
    "print(x)\n",
    "print(x.real)\n",
    "print(x.imag)"
   ]
  },
  {
   "cell_type": "code",
   "execution_count": 28,
   "id": "369e51a6",
   "metadata": {},
   "outputs": [
    {
     "name": "stdout",
     "output_type": "stream",
     "text": [
      "This is python\n",
      "This is python\n",
      "C\n",
      "This is a multiline string with more than one line of code.\n",
      "😀😆🤣\n",
      "raw \\n string\n"
     ]
    }
   ],
   "source": [
    "string = 'This is python'\n",
    "print(string)\n",
    "\n",
    "strings = \"This is python\"\n",
    "print(strings)\n",
    "\n",
    "char = \"C\"\n",
    "print(char)\n",
    "\n",
    "multiline_str = \"\"\"This is a multiline string with more than one line of code.\"\"\"\n",
    "print(multiline_str)\n",
    "\n",
    "unicode = u\"\\U0001f600\\U0001F606\\U0001F923\"\n",
    "print(unicode)\n",
    "\n",
    "\n",
    "raw_str = r\"raw \\n string\"\n",
    "print(raw_str)"
   ]
  },
  {
   "cell_type": "code",
   "execution_count": 29,
   "id": "f0a0ced7",
   "metadata": {},
   "outputs": [
    {
     "name": "stdout",
     "output_type": "stream",
     "text": [
      "a: 5\n",
      "b: 10\n"
     ]
    }
   ],
   "source": [
    "#Boolean \n",
    "a = True + 4\n",
    "b = False + 10 \n",
    "\n",
    "print(\"a:\",a)\n",
    "print(\"b:\",b)"
   ]
  },
  {
   "cell_type": "code",
   "execution_count": 30,
   "id": "d976545e",
   "metadata": {},
   "outputs": [
    {
     "name": "stdout",
     "output_type": "stream",
     "text": [
      "None\n"
     ]
    }
   ],
   "source": [
    "# None literal\n",
    "a = None\n",
    "print(a)\n",
    "\n",
    "#In python there is no varibale declaration.That where we use none."
   ]
  },
  {
   "cell_type": "code",
   "execution_count": null,
   "id": "01b59fe3",
   "metadata": {},
   "outputs": [],
   "source": []
  }
 ],
 "metadata": {
  "kernelspec": {
   "display_name": "Python 3 (ipykernel)",
   "language": "python",
   "name": "python3"
  },
  "language_info": {
   "codemirror_mode": {
    "name": "ipython",
    "version": 3
   },
   "file_extension": ".py",
   "mimetype": "text/x-python",
   "name": "python",
   "nbconvert_exporter": "python",
   "pygments_lexer": "ipython3",
   "version": "3.9.13"
  }
 },
 "nbformat": 4,
 "nbformat_minor": 5
}
