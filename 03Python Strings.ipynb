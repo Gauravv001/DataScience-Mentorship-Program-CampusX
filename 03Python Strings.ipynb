{
 "cells": [
  {
   "cell_type": "markdown",
   "id": "9eb28226",
   "metadata": {},
   "source": [
    "# Strings --> are sequence of characters.\n",
    "# In python specifcially, strings are a sequence of Unicode character\n",
    "# 1. Creating Strings.\n",
    "# 2. Accessing Strings.\n",
    "# 3. Adding chars to Strings.\n",
    "# 4. Editing Strings.\n",
    "# 5. Deleting Strings.\n",
    "# 6. Operations on Strings.\n",
    "# 7. String Functions."
   ]
  },
  {
   "cell_type": "raw",
   "id": "5a37e514",
   "metadata": {},
   "source": [
    "# Creating Stings"
   ]
  },
  {
   "cell_type": "code",
   "execution_count": 5,
   "id": "53c43d3c",
   "metadata": {},
   "outputs": [
    {
     "name": "stdout",
     "output_type": "stream",
     "text": [
      "You can use single inverted commas for strings.\n",
      "You can use double inverted commas for strings.\n",
      "You can also use triple inverted commas as well.\n",
      "You can also use triple inverted commas as well.\n",
      "hello\n"
     ]
    }
   ],
   "source": [
    "s = 'You can use single inverted commas for strings.'\n",
    "print(s)\n",
    "s1 = \"You can use double inverted commas for strings.\"\n",
    "print(s1)\n",
    "\n",
    "#Multiline strings\n",
    "s2 = '''You can also use triple inverted commas as well.'''\n",
    "print(s2)\n",
    "s3 = \"\"\"You can also use triple inverted commas as well.\"\"\"\n",
    "print(s3)\n",
    "\n",
    "#Typeconversion string\n",
    "s4 = str('hello')\n",
    "print(s4)"
   ]
  },
  {
   "cell_type": "code",
   "execution_count": 7,
   "id": "b4a4ffbf",
   "metadata": {},
   "outputs": [
    {
     "name": "stdout",
     "output_type": "stream",
     "text": [
      "It's raining today.\n"
     ]
    }
   ],
   "source": [
    "# But why there are so many methods to print a string.here is the solution.\n",
    "# s = 'it's raining today.'\n",
    "s = \"It's raining today.\"\n",
    "print(s)"
   ]
  },
  {
   "cell_type": "raw",
   "id": "00b6b080",
   "metadata": {},
   "source": [
    "# Accessing Substrings from a string."
   ]
  },
  {
   "cell_type": "code",
   "execution_count": 11,
   "id": "9e1c96ba",
   "metadata": {},
   "outputs": [
    {
     "name": "stdout",
     "output_type": "stream",
     "text": [
      "hello world\n",
      "h\n",
      "e\n",
      "l\n",
      "l\n",
      "o\n",
      " \n",
      "w\n",
      "o\n",
      "r\n",
      "l\n",
      "d\n"
     ]
    }
   ],
   "source": [
    "# indexing\n",
    "# Positive_indexing --> python internally provides some index to each of the char. starting from zero.\n",
    "s = 'hello world'\n",
    "print(s)\n",
    "print(s[0])\n",
    "print(s[1])\n",
    "print(s[2])\n",
    "print(s[3])\n",
    "print(s[4])\n",
    "print(s[5])\n",
    "print(s[6])\n",
    "print(s[7])\n",
    "print(s[8])\n",
    "print(s[9])\n",
    "print(s[10])"
   ]
  },
  {
   "cell_type": "code",
   "execution_count": 12,
   "id": "987ddddd",
   "metadata": {},
   "outputs": [
    {
     "name": "stdout",
     "output_type": "stream",
     "text": [
      "hello world\n",
      "d\n",
      "l\n",
      "r\n",
      "o\n",
      "w\n",
      " \n",
      "o\n",
      "l\n",
      "l\n",
      "e\n",
      "h\n"
     ]
    }
   ],
   "source": [
    "# Negative_indexing --> just opposite of Positive indexing.\n",
    "s = 'hello world'\n",
    "print(s)\n",
    "print(s[-1])\n",
    "print(s[-2])\n",
    "print(s[-3])\n",
    "print(s[-4])\n",
    "print(s[-5])\n",
    "print(s[-6])\n",
    "print(s[-7])\n",
    "print(s[-8])\n",
    "print(s[-9])\n",
    "print(s[-10])\n",
    "print(s[-11])"
   ]
  },
  {
   "cell_type": "code",
   "execution_count": 1,
   "id": "7bfcbc34",
   "metadata": {},
   "outputs": [
    {
     "name": "stdout",
     "output_type": "stream",
     "text": [
      "hello\n",
      "l\n",
      "hel\n",
      "hello world\n",
      "ho\n"
     ]
    }
   ],
   "source": [
    "# Slicing\n",
    "# slicing with positive indexing\n",
    "# upper bound is not included.\n",
    "s = 'hello world'\n",
    "print(s[0:5])\n",
    "print(s[2:3])\n",
    "print(s[:3])\n",
    "print(s[:])\n",
    "\n",
    "# slicing with using step size.\n",
    "print(s[0:6:4])\n"
   ]
  },
  {
   "cell_type": "code",
   "execution_count": 35,
   "id": "d8386dbd",
   "metadata": {},
   "outputs": [
    {
     "name": "stdout",
     "output_type": "stream",
     "text": [
      "w olle\n",
      "dlrow olleh\n",
      "world\n",
      "dlrow\n"
     ]
    }
   ],
   "source": [
    "# slicing with neagtive indexing\n",
    "# if your STEP SIZE is negative then your starting number > next number\n",
    "s = 'hello world'\n",
    "print(s[6:0:-1])\n",
    "\n",
    "# One-liner to reverse the string\n",
    "print(s[::-1])\n",
    "\n",
    "#some more examples\n",
    "print(s[-5:])\n",
    "print(s[-1:-6:-1])"
   ]
  },
  {
   "cell_type": "raw",
   "id": "7f3f51fa",
   "metadata": {},
   "source": [
    "# Editing and Deleting in Strings."
   ]
  },
  {
   "cell_type": "code",
   "execution_count": 37,
   "id": "648eacd1",
   "metadata": {},
   "outputs": [
    {
     "ename": "TypeError",
     "evalue": "'str' object does not support item assignment",
     "output_type": "error",
     "traceback": [
      "\u001b[1;31m---------------------------------------------------------------------------\u001b[0m",
      "\u001b[1;31mTypeError\u001b[0m                                 Traceback (most recent call last)",
      "\u001b[1;32m~\\AppData\\Local\\Temp\\ipykernel_13468\\2648275518.py\u001b[0m in \u001b[0;36m<module>\u001b[1;34m\u001b[0m\n\u001b[0;32m      1\u001b[0m \u001b[1;31m# Str object doesnot support item assignment.\u001b[0m\u001b[1;33m\u001b[0m\u001b[1;33m\u001b[0m\u001b[0m\n\u001b[0;32m      2\u001b[0m \u001b[0ms\u001b[0m \u001b[1;33m=\u001b[0m\u001b[1;34m'hello world'\u001b[0m\u001b[1;33m\u001b[0m\u001b[1;33m\u001b[0m\u001b[0m\n\u001b[1;32m----> 3\u001b[1;33m \u001b[0ms\u001b[0m\u001b[1;33m[\u001b[0m\u001b[1;36m0\u001b[0m\u001b[1;33m]\u001b[0m \u001b[1;33m=\u001b[0m \u001b[1;34m'H'\u001b[0m\u001b[1;33m\u001b[0m\u001b[1;33m\u001b[0m\u001b[0m\n\u001b[0m",
      "\u001b[1;31mTypeError\u001b[0m: 'str' object does not support item assignment"
     ]
    }
   ],
   "source": [
    "# Str object doesnot support item assignment.\n",
    "s ='hello world'\n",
    "s[0] = 'H'"
   ]
  },
  {
   "cell_type": "raw",
   "id": "361f0e06",
   "metadata": {},
   "source": [
    "# Python strings are immutable.(Cannot change after creation once)"
   ]
  },
  {
   "cell_type": "code",
   "execution_count": 38,
   "id": "6b3ad94e",
   "metadata": {},
   "outputs": [
    {
     "name": "stdout",
     "output_type": "stream",
     "text": [
      "hello world\n"
     ]
    },
    {
     "ename": "NameError",
     "evalue": "name 's' is not defined",
     "output_type": "error",
     "traceback": [
      "\u001b[1;31m---------------------------------------------------------------------------\u001b[0m",
      "\u001b[1;31mNameError\u001b[0m                                 Traceback (most recent call last)",
      "\u001b[1;32m~\\AppData\\Local\\Temp\\ipykernel_13468\\564850085.py\u001b[0m in \u001b[0;36m<module>\u001b[1;34m\u001b[0m\n\u001b[0;32m      4\u001b[0m \u001b[1;31m# in python there is an operator for this special cause--> del\u001b[0m\u001b[1;33m\u001b[0m\u001b[1;33m\u001b[0m\u001b[0m\n\u001b[0;32m      5\u001b[0m \u001b[1;32mdel\u001b[0m \u001b[0ms\u001b[0m\u001b[1;33m\u001b[0m\u001b[1;33m\u001b[0m\u001b[0m\n\u001b[1;32m----> 6\u001b[1;33m \u001b[0mprint\u001b[0m\u001b[1;33m(\u001b[0m\u001b[0ms\u001b[0m\u001b[1;33m)\u001b[0m\u001b[1;33m\u001b[0m\u001b[1;33m\u001b[0m\u001b[0m\n\u001b[0m",
      "\u001b[1;31mNameError\u001b[0m: name 's' is not defined"
     ]
    }
   ],
   "source": [
    "# Delete a string\n",
    "s = 'hello world'\n",
    "print(s)\n",
    "# in python there is an operator for this special cause--> del\n",
    "del s\n",
    "print(s)"
   ]
  },
  {
   "cell_type": "code",
   "execution_count": 39,
   "id": "bc4358cb",
   "metadata": {},
   "outputs": [
    {
     "name": "stdout",
     "output_type": "stream",
     "text": [
      "hello world\n"
     ]
    },
    {
     "ename": "TypeError",
     "evalue": "'str' object does not support item deletion",
     "output_type": "error",
     "traceback": [
      "\u001b[1;31m---------------------------------------------------------------------------\u001b[0m",
      "\u001b[1;31mTypeError\u001b[0m                                 Traceback (most recent call last)",
      "\u001b[1;32m~\\AppData\\Local\\Temp\\ipykernel_13468\\1499522438.py\u001b[0m in \u001b[0;36m<module>\u001b[1;34m\u001b[0m\n\u001b[0;32m      1\u001b[0m \u001b[0ms\u001b[0m \u001b[1;33m=\u001b[0m \u001b[1;34m'hello world'\u001b[0m\u001b[1;33m\u001b[0m\u001b[1;33m\u001b[0m\u001b[0m\n\u001b[0;32m      2\u001b[0m \u001b[0mprint\u001b[0m\u001b[1;33m(\u001b[0m\u001b[0ms\u001b[0m\u001b[1;33m)\u001b[0m\u001b[1;33m\u001b[0m\u001b[1;33m\u001b[0m\u001b[0m\n\u001b[1;32m----> 3\u001b[1;33m \u001b[1;32mdel\u001b[0m \u001b[0ms\u001b[0m\u001b[1;33m[\u001b[0m\u001b[1;33m-\u001b[0m\u001b[1;36m1\u001b[0m\u001b[1;33m:\u001b[0m\u001b[1;33m-\u001b[0m\u001b[1;36m5\u001b[0m\u001b[1;33m:\u001b[0m\u001b[1;36m2\u001b[0m\u001b[1;33m]\u001b[0m\u001b[1;33m\u001b[0m\u001b[1;33m\u001b[0m\u001b[0m\n\u001b[0m\u001b[0;32m      4\u001b[0m \u001b[0mprint\u001b[0m\u001b[1;33m(\u001b[0m\u001b[0ms\u001b[0m\u001b[1;33m)\u001b[0m\u001b[1;33m\u001b[0m\u001b[1;33m\u001b[0m\u001b[0m\n",
      "\u001b[1;31mTypeError\u001b[0m: 'str' object does not support item deletion"
     ]
    }
   ],
   "source": [
    "s = 'hello world'\n",
    "print(s)\n",
    "del s[-1:-5:2]\n",
    "print(s)\n",
    "# you cam delete the whole string by using del operator. but you cannot delete a part of string with the help of slicing."
   ]
  },
  {
   "cell_type": "raw",
   "id": "68802067",
   "metadata": {},
   "source": [
    "# Operations on strings\n",
    "# 1. Arithemetic Operations\n",
    "# 2. Relational Operations\n",
    "# 3. Logical Operations\n",
    "# 4. Loops on string\n",
    "# 5. Membership Operations"
   ]
  },
  {
   "cell_type": "code",
   "execution_count": 41,
   "id": "d7d1d5f4",
   "metadata": {},
   "outputs": [
    {
     "name": "stdout",
     "output_type": "stream",
     "text": [
      "delhi mumbai\n",
      "delhidelhidelhidelhidelhi\n",
      "******************************\n"
     ]
    }
   ],
   "source": [
    "# Arithemetic Operations\n",
    "# 1. String Concatenation\n",
    "print('delhi'+' '+'mumbai')\n",
    "\n",
    "# 2. String Multiplication\n",
    "print('delhi'*5)\n",
    "print(\"*\"*30)"
   ]
  },
  {
   "cell_type": "code",
   "execution_count": 43,
   "id": "bb547c0a",
   "metadata": {},
   "outputs": [
    {
     "name": "stdout",
     "output_type": "stream",
     "text": [
      "True\n",
      "False\n",
      "False\n"
     ]
    }
   ],
   "source": [
    "# Relational Operations\n",
    "\n",
    "print('delhi' == 'delhi')\n",
    "print('delhi' == 'mumbai')\n",
    "print('mumbai' > 'pune')  # we are comparing lexiographically --> just like dictionary --> jo word baad mein vho bada hoga."
   ]
  },
  {
   "cell_type": "code",
   "execution_count": 3,
   "id": "b6726e6e",
   "metadata": {},
   "outputs": [
    {
     "name": "stdout",
     "output_type": "stream",
     "text": [
      "world\n",
      "hello\n",
      "\n",
      "world\n",
      "True\n",
      "False\n"
     ]
    }
   ],
   "source": [
    "# Logical Operations\n",
    "# and \n",
    "print('hello' and 'world')\n",
    "\n",
    "# In python, empty string is false and every non-empty string is true.\n",
    "\n",
    "#or\n",
    "print('hello' or 'world')\n",
    "\n",
    "#'' with and ,or\n",
    "print(''and 'world')\n",
    "print(''or 'world')\n",
    "\n",
    "#not\n",
    "print(not'')\n",
    "print(not'hello')"
   ]
  },
  {
   "cell_type": "code",
   "execution_count": 49,
   "id": "1d58e2ff",
   "metadata": {},
   "outputs": [
    {
     "name": "stdout",
     "output_type": "stream",
     "text": [
      "h\n",
      "e\n",
      "l\n",
      "l\n",
      "o\n"
     ]
    }
   ],
   "source": [
    "# Loops in strings\n",
    "for i in 'hello':\n",
    "    print(i)"
   ]
  },
  {
   "cell_type": "code",
   "execution_count": 50,
   "id": "7780f262",
   "metadata": {},
   "outputs": [
    {
     "name": "stdout",
     "output_type": "stream",
     "text": [
      "pune\n",
      "pune\n",
      "pune\n",
      "pune\n",
      "pune\n"
     ]
    }
   ],
   "source": [
    "for i in 'delhi':\n",
    "    print('pune')"
   ]
  },
  {
   "cell_type": "code",
   "execution_count": 51,
   "id": "ec3d9366",
   "metadata": {},
   "outputs": [
    {
     "data": {
      "text/plain": [
       "True"
      ]
     },
     "execution_count": 51,
     "metadata": {},
     "output_type": "execute_result"
    }
   ],
   "source": [
    "# membership operators works on strings\n",
    "'D' in 'Delhi'"
   ]
  },
  {
   "cell_type": "raw",
   "id": "c3bc07e3",
   "metadata": {},
   "source": [
    "# String Functions"
   ]
  },
  {
   "cell_type": "raw",
   "id": "31375dd4",
   "metadata": {},
   "source": [
    "# These are common function which works every thing\n",
    "# 1. len\n",
    "# 2. max\n",
    "# 3. min\n",
    "# 4. sorted"
   ]
  },
  {
   "cell_type": "code",
   "execution_count": 52,
   "id": "92d514f0",
   "metadata": {},
   "outputs": [
    {
     "name": "stdout",
     "output_type": "stream",
     "text": [
      "5\n"
     ]
    }
   ],
   "source": [
    "print(len('hello'))"
   ]
  },
  {
   "cell_type": "code",
   "execution_count": 53,
   "id": "7a10b09c",
   "metadata": {},
   "outputs": [
    {
     "name": "stdout",
     "output_type": "stream",
     "text": [
      "o\n"
     ]
    }
   ],
   "source": [
    "print(max('hello'))"
   ]
  },
  {
   "cell_type": "code",
   "execution_count": 54,
   "id": "19743866",
   "metadata": {},
   "outputs": [
    {
     "name": "stdout",
     "output_type": "stream",
     "text": [
      "e\n"
     ]
    }
   ],
   "source": [
    "print(min('hello'))"
   ]
  },
  {
   "cell_type": "code",
   "execution_count": 55,
   "id": "d1c58705",
   "metadata": {},
   "outputs": [
    {
     "name": "stdout",
     "output_type": "stream",
     "text": [
      "['e', 'h', 'l', 'l', 'o']\n"
     ]
    }
   ],
   "source": [
    "print(sorted('hello'))"
   ]
  },
  {
   "cell_type": "code",
   "execution_count": 58,
   "id": "c7329665",
   "metadata": {},
   "outputs": [
    {
     "name": "stdout",
     "output_type": "stream",
     "text": [
      "['o', 'l', 'l', 'h', 'e']\n"
     ]
    }
   ],
   "source": [
    "print(sorted('hello',reverse=True))"
   ]
  },
  {
   "cell_type": "raw",
   "id": "444d64f2",
   "metadata": {},
   "source": [
    "These functions only works on string.\n",
    "\n",
    "Capitalize / Title / Upper / Lower /Swapcase"
   ]
  },
  {
   "cell_type": "code",
   "execution_count": 65,
   "id": "13d3aba9",
   "metadata": {},
   "outputs": [
    {
     "name": "stdout",
     "output_type": "stream",
     "text": [
      "Hello world\n",
      "Hello World\n",
      "HELLO WORLD\n",
      "hello\n",
      "hElLO WorLD\n"
     ]
    }
   ],
   "source": [
    "s = 'hello world'\n",
    "print(s.capitalize())\n",
    "print(s.title())\n",
    "print(s.upper())\n",
    "\n",
    "s1 = 'Hello'\n",
    "print(s1.lower())\n",
    "\n",
    "s2 = 'HeLlo wORld'\n",
    "print(s2.swapcase())"
   ]
  },
  {
   "cell_type": "raw",
   "id": "866ab4c8",
   "metadata": {},
   "source": [
    "Count / find / index"
   ]
  },
  {
   "cell_type": "code",
   "execution_count": 74,
   "id": "1ca8b0e8",
   "metadata": {},
   "outputs": [
    {
     "name": "stdout",
     "output_type": "stream",
     "text": [
      "2\n",
      "8\n",
      "-1\n",
      "8\n"
     ]
    },
    {
     "ename": "ValueError",
     "evalue": "substring not found",
     "output_type": "error",
     "traceback": [
      "\u001b[1;31m---------------------------------------------------------------------------\u001b[0m",
      "\u001b[1;31mValueError\u001b[0m                                Traceback (most recent call last)",
      "\u001b[1;32m~\\AppData\\Local\\Temp\\ipykernel_13468\\3319737788.py\u001b[0m in \u001b[0;36m<module>\u001b[1;34m\u001b[0m\n\u001b[0;32m     10\u001b[0m \u001b[1;31m# NOTE - only difference between find and index function is if you are trying to access something which is not present in the index will throws you an error\u001b[0m\u001b[1;33m\u001b[0m\u001b[1;33m\u001b[0m\u001b[0m\n\u001b[0;32m     11\u001b[0m \u001b[0mprint\u001b[0m\u001b[1;33m(\u001b[0m\u001b[0ms\u001b[0m\u001b[1;33m.\u001b[0m\u001b[0mindex\u001b[0m\u001b[1;33m(\u001b[0m\u001b[1;34m'is'\u001b[0m\u001b[1;33m)\u001b[0m\u001b[1;33m)\u001b[0m\u001b[1;33m\u001b[0m\u001b[1;33m\u001b[0m\u001b[0m\n\u001b[1;32m---> 12\u001b[1;33m \u001b[0mprint\u001b[0m\u001b[1;33m(\u001b[0m\u001b[0ms\u001b[0m\u001b[1;33m.\u001b[0m\u001b[0mindex\u001b[0m\u001b[1;33m(\u001b[0m\u001b[1;34m'x'\u001b[0m\u001b[1;33m)\u001b[0m\u001b[1;33m)\u001b[0m\u001b[1;33m\u001b[0m\u001b[1;33m\u001b[0m\u001b[0m\n\u001b[0m",
      "\u001b[1;31mValueError\u001b[0m: substring not found"
     ]
    }
   ],
   "source": [
    "s = 'My name is abc'\n",
    "print(s.count('a'))\n",
    "# Given string ke andar kisi dusare substring a count nikalne ke liye count use hota hai.\n",
    "\n",
    "print(s.find('is'))\n",
    "# find --> given string ke andar kisi substring ka index return krta hai.\n",
    "print(s.find('x')) #if not present it will return -1\n",
    "\n",
    "\n",
    "# NOTE - only difference between find and index function is if you are trying to access something which is not present in the index will throws you an error \n",
    "print(s.index('is'))\n",
    "print(s.index('x'))"
   ]
  },
  {
   "cell_type": "raw",
   "id": "e3c58fd5",
   "metadata": {},
   "source": [
    "endswith / startwidth"
   ]
  },
  {
   "cell_type": "code",
   "execution_count": 79,
   "id": "2efbb647",
   "metadata": {},
   "outputs": [
    {
     "name": "stdout",
     "output_type": "stream",
     "text": [
      "True\n",
      "True\n"
     ]
    }
   ],
   "source": [
    "s = 'my name is abcde'\n",
    "print(s.endswith('de'))\n",
    "print(s.startswith('m'))"
   ]
  },
  {
   "cell_type": "raw",
   "id": "e93b7da1",
   "metadata": {},
   "source": [
    "format"
   ]
  },
  {
   "cell_type": "code",
   "execution_count": 80,
   "id": "f60b9089",
   "metadata": {},
   "outputs": [
    {
     "name": "stdout",
     "output_type": "stream",
     "text": [
      "hi my name is abc and I am a male\n"
     ]
    }
   ],
   "source": [
    "name = 'abc'\n",
    "gender = 'male'\n",
    "\n",
    "s = 'hi my name is {} and I am a {}'\n",
    "print(s.format(name,gender))\n",
    "\n",
    "# oder matters\n",
    "# s = 'hi my name is {1} and I am a {0}'"
   ]
  },
  {
   "cell_type": "raw",
   "id": "f1da897c",
   "metadata": {},
   "source": [
    "isalnum / isalpha / isdigit / isidentifier"
   ]
  },
  {
   "cell_type": "code",
   "execution_count": 82,
   "id": "4a1439c0",
   "metadata": {},
   "outputs": [
    {
     "name": "stdout",
     "output_type": "stream",
     "text": [
      "True\n",
      "False\n"
     ]
    }
   ],
   "source": [
    "s = 'abc123'\n",
    "print(s.isalnum())\n",
    "\n",
    "s = 'abc123%'\n",
    "print(s.isalnum())"
   ]
  },
  {
   "cell_type": "code",
   "execution_count": 83,
   "id": "d00370d6",
   "metadata": {},
   "outputs": [
    {
     "name": "stdout",
     "output_type": "stream",
     "text": [
      "True\n",
      "False\n"
     ]
    }
   ],
   "source": [
    "s = 'abc'\n",
    "print(s.isalpha())\n",
    "\n",
    "s = 'abc123%'\n",
    "print(s.isalpha())"
   ]
  },
  {
   "cell_type": "code",
   "execution_count": 84,
   "id": "e09e4b25",
   "metadata": {},
   "outputs": [
    {
     "name": "stdout",
     "output_type": "stream",
     "text": [
      "True\n",
      "False\n"
     ]
    }
   ],
   "source": [
    "s = '123'\n",
    "print(s.isdigit())\n",
    "\n",
    "s = 'abc12'\n",
    "print(s.isdigit())"
   ]
  },
  {
   "cell_type": "code",
   "execution_count": 87,
   "id": "6862b7b5",
   "metadata": {},
   "outputs": [
    {
     "name": "stdout",
     "output_type": "stream",
     "text": [
      "False\n",
      "True\n"
     ]
    }
   ],
   "source": [
    "s = '1name'\n",
    "print(s.isidentifier())\n",
    "\n",
    "s = '_abc'\n",
    "print(s.isidentifier())"
   ]
  },
  {
   "cell_type": "raw",
   "id": "266a06c1",
   "metadata": {},
   "source": [
    "split / join "
   ]
  },
  {
   "cell_type": "code",
   "execution_count": 90,
   "id": "a8fd2456",
   "metadata": {},
   "outputs": [
    {
     "name": "stdout",
     "output_type": "stream",
     "text": [
      "['hi', 'my', 'name', 'is', 'abc']\n",
      "['hi my n', 'me is ', 'bc']\n",
      "['hi my name ', ' abc']\n"
     ]
    }
   ],
   "source": [
    "s = 'hi my name is abc'\n",
    "print(s.split()) # on the basis of space\n",
    "print(s.split('a')) # on the basis of space\n",
    "print(s.split('is')) # on the basis of space"
   ]
  },
  {
   "cell_type": "code",
   "execution_count": 94,
   "id": "ff66c495",
   "metadata": {},
   "outputs": [
    {
     "data": {
      "text/plain": [
       "'hi my name is abc'"
      ]
     },
     "execution_count": 94,
     "metadata": {},
     "output_type": "execute_result"
    }
   ],
   "source": [
    "\" \".join(['hi', 'my', 'name', 'is', 'abc'])"
   ]
  },
  {
   "cell_type": "code",
   "execution_count": 95,
   "id": "71b168ff",
   "metadata": {},
   "outputs": [
    {
     "data": {
      "text/plain": [
       "'hi-my-name-is-abc'"
      ]
     },
     "execution_count": 95,
     "metadata": {},
     "output_type": "execute_result"
    }
   ],
   "source": [
    "\"-\".join(['hi', 'my', 'name', 'is', 'abc'])"
   ]
  },
  {
   "cell_type": "raw",
   "id": "58e355bb",
   "metadata": {},
   "source": [
    "Replace"
   ]
  },
  {
   "cell_type": "code",
   "execution_count": 97,
   "id": "04ad1296",
   "metadata": {},
   "outputs": [
    {
     "name": "stdout",
     "output_type": "stream",
     "text": [
      "hi my name is def\n",
      "hi my name is abc\n"
     ]
    }
   ],
   "source": [
    "s = 'hi my name is abc'\n",
    "print(s.replace('abc','def'))\n",
    "print(s.replace('ad','def'))"
   ]
  },
  {
   "cell_type": "raw",
   "id": "f1791524",
   "metadata": {},
   "source": [
    "strip  -->  remove trailing spaces."
   ]
  },
  {
   "cell_type": "code",
   "execution_count": 102,
   "id": "440a90a7",
   "metadata": {},
   "outputs": [
    {
     "name": "stdout",
     "output_type": "stream",
     "text": [
      "Helloworld\n"
     ]
    }
   ],
   "source": [
    "s = 'Helloworld                 '\n",
    "print(s.strip())"
   ]
  }
 ],
 "metadata": {
  "kernelspec": {
   "display_name": "Python 3 (ipykernel)",
   "language": "python",
   "name": "python3"
  },
  "language_info": {
   "codemirror_mode": {
    "name": "ipython",
    "version": 3
   },
   "file_extension": ".py",
   "mimetype": "text/x-python",
   "name": "python",
   "nbconvert_exporter": "python",
   "pygments_lexer": "ipython3",
   "version": "3.10.9"
  }
 },
 "nbformat": 4,
 "nbformat_minor": 5
}
